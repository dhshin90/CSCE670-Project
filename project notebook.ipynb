{
 "cells": [
  {
   "cell_type": "markdown",
   "metadata": {},
   "source": [
    "#### CSCE 670 :: Information Storage and Retrieval :: Texas A&M University :: Spring 2017\n",
    "\n",
    "\n",
    "# Project: Different Faces of a City\n",
    "\n",
    "\n",
    "Team members: ...\n",
    "\n",
    "Project description here..."
   ]
  },
  {
   "cell_type": "markdown",
   "metadata": {},
   "source": [
    "## Introduction\n",
    "\n",
    "This project ...\n",
    "\n",
    "The paper we are referring to...\n",
    "* http://courses.cse.tamu.edu/caverlee/csce670_2013/livehoods-paper.pdf\n",
    "\n",
    "We implemented **our algorithm** from scratch.\n",
    "\n",
    "You can see the code below...\n",
    "\n"
   ]
  },
  {
   "cell_type": "code",
   "execution_count": 1,
   "metadata": {
    "collapsed": false
   },
   "outputs": [],
   "source": [
    "# Data Structure\n",
    "\n",
    "import string\n",
    "import glob, os\n",
    "import re\n",
    "import math\n",
    "\n",
    "# Input: Filename of checkin data\n",
    "# Return: {venueid : [{userid : time}, {userid : time}, ...], ... }\n",
    "\n",
    "def get_venue_checkin(filename):\n",
    "    ret = {}\n",
    "    \n",
    "    fp = open(filename, 'r')\n",
    "    lines = fp.readlines()\n",
    "    \n",
    "    for line in lines:\n",
    "        checkin_time = {}\n",
    "        arr = re.split(\"\\t\", line)\n",
    "        \n",
    "        userid = arr[0]\n",
    "        venueid = arr[1]\n",
    "        time = re.split(' ', arr[2])\n",
    "        hour = time[3][0:2]\n",
    "        \n",
    "        checkin_time[userid] = hour\n",
    "\n",
    "        if not ret.has_key(venueid):\n",
    "            ret[venueid]=[checkin_time]\n",
    "        else:\n",
    "            ret[venueid].append(checkin_time)\n",
    "            \n",
    "    return ret\n",
    "\n",
    "#austin_venue_checkin = get_venue_checkin(\"austin_checkin.txt\")\n",
    "#houston_venue_checkin = get_venue_checkin(\"houston_checkin.txt\")"
   ]
  },
  {
   "cell_type": "code",
   "execution_count": 2,
   "metadata": {
    "collapsed": false
   },
   "outputs": [],
   "source": [
    "# Input: Filename of checkin data\n",
    "# Return: {venueid : {\"latitiude\" : latitude, \"longitude\" : longitude, \"type\" : type}, ...}\n",
    "\n",
    "def get_venue_info(filename):\n",
    "    ret = {}\n",
    "    \n",
    "    fp = open(filename, 'r')\n",
    "    lines = fp.readlines()\n",
    "\n",
    "    for line in lines:\n",
    "        arr = re.split(\"\\t\", line)\n",
    "        \n",
    "        venue_info = {}\n",
    "        \n",
    "        venueid = arr[0]\n",
    "        venue_info[\"latitude\"] = arr[1]\n",
    "        venue_info[\"longitude\"] = arr[2]\n",
    "        venue_info[\"type\"] = arr[3]\n",
    "        \n",
    "        ret[venueid] = venue_info\n",
    "\n",
    "    return ret\n",
    "\n",
    "austin_venue = get_venue_info(\"austin_venue.txt\")\n",
    "houston_venue = get_venue_info(\"houston_venue.txt\")"
   ]
  },
  {
   "cell_type": "code",
   "execution_count": 3,
   "metadata": {
    "collapsed": false
   },
   "outputs": [],
   "source": [
    "# Create hour histogram\n",
    "# Input: Filename of checkin data, period in hours\n",
    "# Return: [freq@0-period, freq@1-2*period, ...]\n",
    "\n",
    "def create_histogram(filename, period):\n",
    "    ret = {}\n",
    "    \n",
    "    fp = open(filename, 'r')\n",
    "    lines = fp.readlines()\n",
    "\n",
    "    for line in lines:\n",
    "        arr = re.split('\\t', line)\n",
    "        \n",
    "        time = re.split(' ', arr[2])\n",
    "        hour = int(int(time[3][0:2])/period)\n",
    "        \n",
    "        if not ret.has_key(hour):\n",
    "            ret[hour] = 1\n",
    "        else:\n",
    "            ret[hour] += 1\n",
    "            \n",
    "    sorted_keys = sorted(ret)\n",
    "    \n",
    "    ret_list = []\n",
    "    \n",
    "    for k in sorted_keys:\n",
    "        ret_list.append((k, ret[k]))\n",
    "            \n",
    "    return ret_list\n",
    "\n",
    "#austin_histogram = create_histogram(\"austin_checkin.txt\", 1)\n",
    "#houston_histogram = create_histogram(\"houston_checkin.txt\", 1)"
   ]
  },
  {
   "cell_type": "code",
   "execution_count": 4,
   "metadata": {
    "collapsed": false
   },
   "outputs": [],
   "source": [
    "from collections import defaultdict\n",
    "\n",
    "# Input: Filename of checkin data, period in hours\n",
    "# Return: {hour : {venueid : {userid : checkin_freq, ...}, ...}, ...}\n",
    "\n",
    "def get_checkin_freq_by_hour(filename, period):\n",
    "    ret = defaultdict(lambda : defaultdict(dict))\n",
    "    \n",
    "    fp = open(filename, 'r')\n",
    "    lines = fp.readlines()\n",
    "\n",
    "    for line in lines:\n",
    "        arr = re.split('\\t', line)\n",
    "        \n",
    "        userid = arr[0]\n",
    "        venueid = arr[1]\n",
    "        time = re.split(' ', arr[2])\n",
    "        hour = int(int(time[3][0:2])/period)\n",
    "        \n",
    "        if not ret.has_key(hour):\n",
    "            ret[hour][venueid][userid] = 1\n",
    "        else:\n",
    "            if not ret[hour].has_key(venueid):\n",
    "                ret[hour][venueid][userid] = 1\n",
    "            else:\n",
    "                if not ret[hour][venueid].has_key(userid):\n",
    "                    ret[hour][venueid][userid] = 1\n",
    "                else:\n",
    "                    ret[hour][venueid][userid] += 1\n",
    "                    \n",
    "    return ret\n",
    "    \n",
    "austin_checkin_freq = get_checkin_freq_by_hour(\"austin_checkin.txt\", 24)\n",
    "houston_checkin_freq = get_checkin_freq_by_hour(\"houston_checkin.txt\", 24)"
   ]
  },
  {
   "cell_type": "code",
   "execution_count": 5,
   "metadata": {
    "collapsed": false
   },
   "outputs": [],
   "source": [
    "# Input: {hour : {venueid : {userid : checkin_freq, ...}, ...}, ...}, \n",
    "#        {venueid : {\"latitiude\" : latitude, \"longitude\" : longitude, \"type\" : type}, ...},\n",
    "#        period in hours\n",
    "# Return {hour : {venue_type : freq, ...}, ...}\n",
    "\n",
    "def create_pie_chart(freq, info, period):\n",
    "    ret = {}\n",
    "    \n",
    "    for hour, venues in freq.iteritems():\n",
    "        for venueid, users in venues.iteritems():\n",
    "            venue_type = info[venueid][\"type\"]\n",
    "            \n",
    "            checkin_total = 0\n",
    "            for userid, checkin_count in users.iteritems():\n",
    "                checkin_total += checkin_count\n",
    "                \n",
    "            if not ret.has_key(hour):\n",
    "                ret[hour] = {}\n",
    "                ret[hour][venue_type] = checkin_total\n",
    "                \n",
    "            else:\n",
    "                if not ret[hour].has_key(venue_type):\n",
    "                    ret[hour][venue_type] = checkin_total\n",
    "                else:\n",
    "                    ret[hour][venue_type] += checkin_total\n",
    "                    \n",
    "    return ret\n",
    "\n",
    "#austin_pie_chart = create_pie_chart(austin_checkin_freq, austin_venue, 1)\n",
    "#houston_pie_chart = create_pie_chart(houston_checkin_freq, houston_venue, 1)"
   ]
  },
  {
   "cell_type": "code",
   "execution_count": 6,
   "metadata": {
    "collapsed": true
   },
   "outputs": [],
   "source": [
    "# Input: {userid : freq, ...}\n",
    "# Return: {userid : normalized_freq, ...}\n",
    "\n",
    "def normalized(vect):\n",
    "    ret = {}\n",
    "    \n",
    "    total = 0\n",
    "    \n",
    "    for userid, freq in vect.iteritems():\n",
    "        total += freq**2\n",
    "    \n",
    "    normalizer = math.sqrt(total)\n",
    "    \n",
    "    for userid, freq in vect.iteritems():\n",
    "        ret[userid] = float(float(freq)/float(normalizer))\n",
    "        \n",
    "    return ret"
   ]
  },
  {
   "cell_type": "code",
   "execution_count": 7,
   "metadata": {
    "collapsed": false
   },
   "outputs": [],
   "source": [
    "from math import radians, cos, sin, asin, sqrt\n",
    "\n",
    "# Taken from Micheal Dunn from post http://stackoverflow.com/questions/4913349/haversine-formula-in-python-bearing-and-distance-between-two-gps-points\n",
    "\n",
    "def distance(v1, v2):\n",
    "    lon1 = float(v1[\"longitude\"])\n",
    "    lat1 = float(v1[\"latitude\"])\n",
    "    lon2 = float(v2[\"longitude\"])\n",
    "    lat2 = float(v2[\"latitude\"])\n",
    "\n",
    "    # convert decimal degrees to radians \n",
    "    lon1, lat1, lon2, lat2 = map(radians, [lon1, lat1, lon2, lat2])\n",
    "\n",
    "    # haversine formula \n",
    "    dlon = lon2 - lon1 \n",
    "    dlat = lat2 - lat1 \n",
    "    a = sin(dlat/2)**2 + cos(lat1) * cos(lat2) * sin(dlon/2)**2\n",
    "    c = 2 * asin(sqrt(a)) \n",
    "    r = 6371 # Radius of earth in kilometers. Use 3956 for miles\n",
    "    return c * r"
   ]
  },
  {
   "cell_type": "code",
   "execution_count": 8,
   "metadata": {
    "collapsed": false
   },
   "outputs": [],
   "source": [
    "# Input: filename, number of nearest venues\n",
    "# Return: {venueid : [venueid, ...], ...}\n",
    "\n",
    "def get_nearest_venues(filename, n):\n",
    "    ret = {}\n",
    "\n",
    "    fp = open(filename, 'r')\n",
    "    lines = fp.readlines()\n",
    "\n",
    "    for line in lines:\n",
    "        arr = re.split(':', line)\n",
    "        \n",
    "        venueid = arr[0]\n",
    "        nearest_list = re.split(',', arr[1])\n",
    "        \n",
    "        ret[venueid] = nearest_list[0:n]\n",
    "             \n",
    "    return ret\n",
    "\n",
    "austin_nearest = get_nearest_venues(\"nearest_neighbors_austin.txt\", 10)\n",
    "houston_nearest = get_nearest_venues(\"nearest_neighbors_houston.txt\", 10)"
   ]
  },
  {
   "cell_type": "code",
   "execution_count": 9,
   "metadata": {
    "collapsed": false
   },
   "outputs": [],
   "source": [
    "# Computer 1000 nearest neigbors for later computation\n",
    "# Input: filaname, {venueid : {\"latitiude\" : latitude, \"longitude\" : longitude, \"type\" : type}, ...}\n",
    "# Return: None\n",
    "# Output: To file: venueid:1st_nearest_venueid,2nd_nearest_venueid,...\n",
    "\n",
    "def preprocess_nearest_venues(filename, info):\n",
    "    fp = open(filename, 'a')\n",
    "    l = len(info)\n",
    "    c = 0\n",
    "    n = 1000\n",
    "    for v1 in info.keys():\n",
    "        if c % (l/100) == 0:\n",
    "            print str(c*100.0/float(l))+\"%\"\n",
    "        c += 1\n",
    "        \n",
    "        dist = []\n",
    "        for v2 in info.keys():\n",
    "            if v1 == v2:\n",
    "                continue\n",
    "                \n",
    "            d = distance(info[v1], info[v2])\n",
    "            dist.append((v2, d))\n",
    "        dist.sort(key = lambda elem: elem[1])\n",
    "        s = \"\"\n",
    "        \n",
    "        i = 0\n",
    "        for e in dist:\n",
    "            if i >= 1000:\n",
    "                break\n",
    "            s += e[0]+\",\"\n",
    "            i += 1\n",
    "            \n",
    "        fp.write(v1+\":\"+s[:-1]+\"\\n\")\n",
    "        \n",
    "#preprocess_nearest_venues(\"nearest_neighbors_austin_1000.txt\", austin_venue)\n",
    "#preprocess_nearest_venues(\"nearest_neighbors_houston_1000.txt\", houston_venue)"
   ]
  },
  {
   "cell_type": "code",
   "execution_count": 10,
   "metadata": {
    "collapsed": true
   },
   "outputs": [],
   "source": [
    "# Input: {userid : freq, ...}, {userid : freq, ...}\n",
    "# Return: similarity score\n",
    "\n",
    "def cosine_sim(vec1, vec2):\n",
    "    ret = 0\n",
    "    \n",
    "    v1 = normalized(vec1)\n",
    "    v2 = normalized(vec2)\n",
    "    \n",
    "    common_keys = list(set(v1.keys()) & set(v2.keys()))\n",
    "    \n",
    "    for k in common_keys:\n",
    "        ret += v1[k]*v2[k]\n",
    "    \n",
    "    return ret"
   ]
  },
  {
   "cell_type": "code",
   "execution_count": 13,
   "metadata": {
    "collapsed": false
   },
   "outputs": [],
   "source": [
    "# Input: {venueid : {userid : checkin_freq, ...}, ...},\n",
    "#        {venueid : [venueid, ...], ...}\n",
    "# Return: Nv x Nv Affinity Matrix; Nv = # venues\n",
    "#         {venueid : {venueid : score, ...}, ...}\n",
    "\n",
    "def create_affinity_matrix(venues, nearest):\n",
    "    alpha = 0.01\n",
    "    \n",
    "    ret = {}\n",
    "    \n",
    "    for v1 in venues.keys():\n",
    "        ret[v1] = {}\n",
    "        \n",
    "        for v2 in nearest[v1]:\n",
    "            ret[v1][v2] = cosine_sim(venues[v1], venues[v2]) + alpha\n",
    "                \n",
    "    return ret\n",
    "\n",
    "austin_affinity = create_affinity_matrix(austin_checkin_freq[0], austin_nearest)\n",
    "houston_affinity = create_affinity_matrix(houston_checkin_freq[0], houston_nearest)"
   ]
  },
  {
   "cell_type": "code",
   "execution_count": 21,
   "metadata": {
    "collapsed": false
   },
   "outputs": [],
   "source": [
    "#c = 0\n",
    "#for k, v in austin_affinity.iteritems():\n",
    "#    for kk, vv in v.iteritems():\n",
    "#        if vv != 0.01:\n",
    "#            c += 1\n",
    "#            print vv\n",
    "#print c\n",
    "#print len(austin_affinity)*10\n",
    "#print austin_affinity\n",
    "#\n",
    "#def get_nearest_venues_tmp(filename, n):\n",
    "#    reader = open(filename+\"_1000.txt\", 'r')\n",
    "#    writer = open(filename+\".txt\", 'w')\n",
    "#    \n",
    "#    lines = reader.readlines()\n",
    "#\n",
    "#    for line in lines:\n",
    "#        arr = re.split(':', line)\n",
    "#        \n",
    "#        venueid = arr[0]\n",
    "#        nearest_list = re.split(',', arr[1])\n",
    "#        \n",
    "#        s = str(venueid) + \":\"\n",
    "#        \n",
    "#        for e in nearest_list[0:n]:\n",
    "#            s += str(e) + \",\"\n",
    "#            \n",
    "#        writer.write(s[:-1])\n",
    "#\n",
    "#get_nearest_venues_tmp(\"nearest_neighbors_austin\", 100)\n",
    "#get_nearest_venues_tmp(\"nearest_neighbors_houston\", 100)"
   ]
  },
  {
   "cell_type": "markdown",
   "metadata": {},
   "source": [
    "Another function is here"
   ]
  },
  {
   "cell_type": "code",
   "execution_count": 3,
   "metadata": {
    "collapsed": false
   },
   "outputs": [
    {
     "data": {
      "text/plain": [
       "27"
      ]
     },
     "execution_count": 3,
     "metadata": {},
     "output_type": "execute_result"
    }
   ],
   "source": [
    "def cubed(x):\n",
    "    \"\"\" Return the cube of a  \n",
    "        value \"\"\"\n",
    "    return x ** 3\n",
    "\n",
    "cubed(3)"
   ]
  },
  {
   "cell_type": "markdown",
   "metadata": {},
   "source": [
    "### Here, we gonna plot our clusters\n",
    "\n",
    "Description's here..."
   ]
  },
  {
   "cell_type": "code",
   "execution_count": 72,
   "metadata": {
    "collapsed": false
   },
   "outputs": [
    {
     "data": {
      "text/plain": [
       "<matplotlib.text.Text at 0x110f91e10>"
      ]
     },
     "execution_count": 72,
     "metadata": {},
     "output_type": "execute_result"
    },
    {
     "data": {
      "image/png": "[encoded data removed]",
      "text/plain": [
       "<matplotlib.figure.Figure at 0x111a0e910>"
      ]
     },
     "metadata": {},
     "output_type": "display_data"
    }
   ],
   "source": [
    "# this line prepares IPython for working with matplotlib\n",
    "%matplotlib inline  \n",
    "\n",
    "import matplotlib.pyplot as plt  \n",
    "\n",
    "x = [0, 1, 2, 3, 4]  \n",
    "y1 = [10, 12, 10, 10, 12]\n",
    "y2 = [8, 9, 9, 11, 12]\n",
    "line_up, = plt.plot(x, y1, label = \"Alice\")\n",
    "line_down, = plt.plot(x, y2, label = \"Bob\") \n",
    "# your code here (plus you may need to modify the previous two lines)\n",
    "plt.legend(handles=[line_up, line_down], loc = 4)\n",
    "plt.xlabel(\"X-axis\")\n",
    "plt.ylabel(\"Y-axis\")"
   ]
  },
  {
   "cell_type": "markdown",
   "metadata": {
    "collapsed": true
   },
   "source": [
    "Another **markdown cell** here!"
   ]
  },
  {
   "cell_type": "code",
   "execution_count": null,
   "metadata": {
    "collapsed": true
   },
   "outputs": [],
   "source": []
  }
 ],
 "metadata": {
  "anaconda-cloud": {},
  "kernelspec": {
   "display_name": "Python 2",
   "language": "python",
   "name": "python2"
  },
  "language_info": {
   "codemirror_mode": {
    "name": "ipython",
    "version": 2
   },
   "file_extension": ".py",
   "mimetype": "text/x-python",
   "name": "python",
   "nbconvert_exporter": "python",
   "pygments_lexer": "ipython2",
   "version": "2.7.13"
  }
 },
 "nbformat": 4,
 "nbformat_minor": 0
}
